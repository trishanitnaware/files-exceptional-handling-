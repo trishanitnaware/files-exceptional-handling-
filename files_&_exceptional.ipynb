{
  "nbformat": 4,
  "nbformat_minor": 0,
  "metadata": {
    "colab": {
      "provenance": []
    },
    "kernelspec": {
      "name": "python3",
      "display_name": "Python 3"
    },
    "language_info": {
      "name": "python"
    }
  },
  "cells": [
    {
      "cell_type": "markdown",
      "source": [
        "# Files & exceptional\n"
      ],
      "metadata": {
        "id": "b79V7G4B6Sa3"
      }
    },
    {
      "cell_type": "markdown",
      "source": [
        "Q1. Difference between interpreted and compiled languages\n",
        "\n",
        "Interpreted: Code is executed line-by-line (e.g., Python).\n",
        "\n",
        "Compiled: Code is translated to machine code before execution (e.g., C++).\n",
        "\n",
        "Q2. Exception handling in Python\n",
        "\n",
        "Mechanism to handle runtime errors without crashing the program.\n",
        "\n",
        "Q3. Purpose of the finally block in exception handling\n",
        "\n",
        "Executes code regardless of whether an exception occurred or not.\n",
        "\n",
        "Q4. Logging in Python\n",
        "\n",
        "Process of recording program events, errors, or status messages.\n",
        "\n",
        "Q5. Significance of __del__ method in Python\n",
        "\n",
        "Destructor method; called when an object is about to be destroyed.\n",
        "\n",
        "Q6. Difference between import and from ... import\n",
        "\n",
        "import loads the whole module.\n",
        "\n",
        "from ... import loads specific objects/functions.\n",
        "\n",
        "Q7. Handling multiple exceptions in Python\n",
        "\n",
        "Use multiple except blocks or a tuple of exceptions in one except.\n",
        "\n",
        "Q8. Purpose of the with statement in file handling\n",
        "\n",
        "Ensures files are automatically closed after operations.\n",
        "\n",
        "Q9. Difference between multithreading and multiprocessing\n",
        "\n",
        "Multithreading: Multiple threads share the same memory.\n",
        "\n",
        "Multiprocessing: Multiple processes have separate memory.\n",
        "\n",
        "Q10. Advantages of using logging in a program\n",
        "\n",
        "Tracks errors, debugging info, and improves maintainability.\n",
        "\n",
        "Q11. Memory management in Python\n",
        "\n",
        "Allocation and deallocation of memory handled by Python automatically.\n",
        "\n",
        "Q12. Basic steps in exception handling in Python\n",
        "\n",
        "try → detect error, except → handle error, else → execute if no error, finally → always execute.\n",
        "\n",
        "Q13. Why memory management is important in Python\n",
        "\n",
        "Prevents memory leaks and ensures efficient performance.\n",
        "\n",
        "Q14. Role of try and except in exception handling\n",
        "\n",
        "try: Test code for errors.\n",
        "\n",
        "except: Handles the error if it occurs.\n",
        "\n",
        "Q15. Python’s garbage collection system\n",
        "\n",
        "Automatically frees memory by removing unused objects using reference counting and cyclic garbage collector.\n",
        "\n",
        "Q16. Purpose of the else block in exception handling\n",
        "\n",
        "Executes code only if no exception occurs in try.\n",
        "\n",
        "Q17. Common logging levels in Python\n",
        "\n",
        "DEBUG, INFO, WARNING, ERROR, CRITICAL.\n",
        "\n",
        "Q18. Difference between os.fork() and multiprocessing\n",
        "\n",
        "os.fork(): Unix-specific, creates child process at OS level.\n",
        "\n",
        "multiprocessing: Cross-platform, higher-level process creation.\n",
        "\n",
        "Q19. Importance of closing a file in Python\n",
        "\n",
        "Frees system resources and ensures data is saved properly.\n",
        "\n",
        "Q20. Difference between file.read() and file.readline()\n",
        "\n",
        "read(): Reads entire file or given size.\n",
        "\n",
        "readline(): Reads one line at a time.\n",
        "\n",
        "Q21. Logging module in Python usage\n",
        "\n",
        "Provides functions to log messages to files or console with levels.\n",
        "\n",
        "Q22. os module use in file handling\n",
        "\n",
        "Performs file/directory operations like create, delete, rename, check paths.\n",
        "\n",
        "Q23. Challenges in memory management in Python\n",
        "\n",
        "Circular references, high memory usage, and garbage collection delays.\n",
        "\n",
        "Q24. Raise an exception manually in Python\n",
        "\n",
        "Use raise ExceptionType(\"message\").\n",
        "\n",
        "Q25. Importance of multithreading in certain applications\n",
        "\n",
        "Improves responsiveness and performance in I/O-bound tasks."
      ],
      "metadata": {
        "id": "oGywWovH6YUD"
      }
    },
    {
      "cell_type": "markdown",
      "source": [
        "Q1. Open a file for writing and write a string"
      ],
      "metadata": {
        "id": "Aohr_UPi7aiP"
      }
    },
    {
      "cell_type": "code",
      "source": [
        "with open(\"file.txt\", \"w\") as f:\n",
        "    f.write(\"Hello World\")"
      ],
      "metadata": {
        "id": "f4BIKYMu7cMA"
      },
      "execution_count": 2,
      "outputs": []
    },
    {
      "cell_type": "markdown",
      "source": [
        "Q2. Read file contents and print each line"
      ],
      "metadata": {
        "id": "Pk2vWlt57rvi"
      }
    },
    {
      "cell_type": "code",
      "source": [
        "with open(\"file.txt\", \"r\") as f:\n",
        "    for line in f:\n",
        "        print(line.strip())"
      ],
      "metadata": {
        "colab": {
          "base_uri": "https://localhost:8080/"
        },
        "id": "PofMd4ZE7syB",
        "outputId": "a8425028-835a-4844-d5d1-cc20be8e81d4"
      },
      "execution_count": 3,
      "outputs": [
        {
          "output_type": "stream",
          "name": "stdout",
          "text": [
            "Hello World\n"
          ]
        }
      ]
    },
    {
      "cell_type": "markdown",
      "source": [
        "Q3. Handle case when file doesn’t exist"
      ],
      "metadata": {
        "id": "wk6WnGCf7xcc"
      }
    },
    {
      "cell_type": "code",
      "source": [
        "try:\n",
        "    with open(\"nofile.txt\", \"r\") as f:\n",
        "        print(f.read())\n",
        "except FileNotFoundError:\n",
        "    print(\"File not found!\")"
      ],
      "metadata": {
        "colab": {
          "base_uri": "https://localhost:8080/"
        },
        "id": "DAg2_cDP70bJ",
        "outputId": "3f75ff1f-c60d-49cd-8a13-405faf0682af"
      },
      "execution_count": 4,
      "outputs": [
        {
          "output_type": "stream",
          "name": "stdout",
          "text": [
            "File not found!\n"
          ]
        }
      ]
    },
    {
      "cell_type": "markdown",
      "source": [
        "Q4. Copy content from one file to another"
      ],
      "metadata": {
        "id": "ln1yB-Mc74FO"
      }
    },
    {
      "cell_type": "code",
      "source": [
        "with open(\"src.txt\") as src, open(\"dest.txt\", \"w\") as dst:\n",
        "    dst.write(src.read())"
      ],
      "metadata": {
        "colab": {
          "base_uri": "https://localhost:8080/",
          "height": 158
        },
        "id": "eLNBn84076-5",
        "outputId": "603659eb-4adf-4eb6-9222-20cd7249344d"
      },
      "execution_count": 5,
      "outputs": [
        {
          "output_type": "error",
          "ename": "FileNotFoundError",
          "evalue": "[Errno 2] No such file or directory: 'src.txt'",
          "traceback": [
            "\u001b[0;31m---------------------------------------------------------------------------\u001b[0m",
            "\u001b[0;31mFileNotFoundError\u001b[0m                         Traceback (most recent call last)",
            "\u001b[0;32m/tmp/ipython-input-3904484634.py\u001b[0m in \u001b[0;36m<cell line: 0>\u001b[0;34m()\u001b[0m\n\u001b[0;32m----> 1\u001b[0;31m \u001b[0;32mwith\u001b[0m \u001b[0mopen\u001b[0m\u001b[0;34m(\u001b[0m\u001b[0;34m\"src.txt\"\u001b[0m\u001b[0;34m)\u001b[0m \u001b[0;32mas\u001b[0m \u001b[0msrc\u001b[0m\u001b[0;34m,\u001b[0m \u001b[0mopen\u001b[0m\u001b[0;34m(\u001b[0m\u001b[0;34m\"dest.txt\"\u001b[0m\u001b[0;34m,\u001b[0m \u001b[0;34m\"w\"\u001b[0m\u001b[0;34m)\u001b[0m \u001b[0;32mas\u001b[0m \u001b[0mdst\u001b[0m\u001b[0;34m:\u001b[0m\u001b[0;34m\u001b[0m\u001b[0;34m\u001b[0m\u001b[0m\n\u001b[0m\u001b[1;32m      2\u001b[0m     \u001b[0mdst\u001b[0m\u001b[0;34m.\u001b[0m\u001b[0mwrite\u001b[0m\u001b[0;34m(\u001b[0m\u001b[0msrc\u001b[0m\u001b[0;34m.\u001b[0m\u001b[0mread\u001b[0m\u001b[0;34m(\u001b[0m\u001b[0;34m)\u001b[0m\u001b[0;34m)\u001b[0m\u001b[0;34m\u001b[0m\u001b[0;34m\u001b[0m\u001b[0m\n",
            "\u001b[0;31mFileNotFoundError\u001b[0m: [Errno 2] No such file or directory: 'src.txt'"
          ]
        }
      ]
    },
    {
      "cell_type": "markdown",
      "source": [
        "Q5. Catch division by zero"
      ],
      "metadata": {
        "id": "8Q8HBD1P7_gb"
      }
    },
    {
      "cell_type": "code",
      "source": [
        "try:\n",
        "    print(10 / 0)\n",
        "except ZeroDivisionError:\n",
        "    print(\"Can't divide by zero!\")"
      ],
      "metadata": {
        "colab": {
          "base_uri": "https://localhost:8080/"
        },
        "id": "iFsbQbXU8CKw",
        "outputId": "ccca7061-c5b5-420f-c1a8-5622b4bf0d61"
      },
      "execution_count": 6,
      "outputs": [
        {
          "output_type": "stream",
          "name": "stdout",
          "text": [
            "Can't divide by zero!\n"
          ]
        }
      ]
    },
    {
      "cell_type": "markdown",
      "source": [
        "Q6. Log error when division by zero"
      ],
      "metadata": {
        "id": "V9J9gZHr8F-j"
      }
    },
    {
      "cell_type": "code",
      "source": [
        "import logging\n",
        "logging.basicConfig(filename=\"error.log\", level=logging.ERROR)\n",
        "try:\n",
        "    10 / 0\n",
        "except ZeroDivisionError as e:\n",
        "    logging.error(e)"
      ],
      "metadata": {
        "colab": {
          "base_uri": "https://localhost:8080/"
        },
        "id": "cLRGx36e8IiX",
        "outputId": "3566f1ac-f8dd-4187-d325-c48da4184388"
      },
      "execution_count": 7,
      "outputs": [
        {
          "output_type": "stream",
          "name": "stderr",
          "text": [
            "ERROR:root:division by zero\n"
          ]
        }
      ]
    },
    {
      "cell_type": "markdown",
      "source": [
        "Q7. Log at different levels"
      ],
      "metadata": {
        "id": "SHKa93T78M6A"
      }
    },
    {
      "cell_type": "code",
      "source": [
        "import logging\n",
        "logging.basicConfig(level=logging.DEBUG)\n",
        "logging.info(\"Info message\")\n",
        "logging.warning(\"Warning message\")\n",
        "logging.error(\"Error message\")"
      ],
      "metadata": {
        "colab": {
          "base_uri": "https://localhost:8080/"
        },
        "id": "ItiLvA798W1f",
        "outputId": "04b65bf3-0a01-488b-bc3f-d7667509a014"
      },
      "execution_count": 8,
      "outputs": [
        {
          "output_type": "stream",
          "name": "stderr",
          "text": [
            "WARNING:root:Warning message\n",
            "ERROR:root:Error message\n"
          ]
        }
      ]
    },
    {
      "cell_type": "markdown",
      "source": [
        "Q8. Handle file opening error"
      ],
      "metadata": {
        "id": "vMvWWHdO8YYN"
      }
    },
    {
      "cell_type": "code",
      "source": [
        "try:\n",
        "    with open(\"data.txt\") as f:\n",
        "        print(f.read())\n",
        "except IOError:\n",
        "    print(\"File error!\")"
      ],
      "metadata": {
        "colab": {
          "base_uri": "https://localhost:8080/"
        },
        "id": "kkNd_TYj8bRb",
        "outputId": "12e17c28-79a0-4dbe-8685-d27bb0cc567f"
      },
      "execution_count": 9,
      "outputs": [
        {
          "output_type": "stream",
          "name": "stdout",
          "text": [
            "File error!\n"
          ]
        }
      ]
    },
    {
      "cell_type": "markdown",
      "source": [
        "Q9. Read file line by line into a list"
      ],
      "metadata": {
        "id": "SQ3vrMls8e9i"
      }
    },
    {
      "cell_type": "code",
      "source": [
        "with open(\"file.txt\") as f:\n",
        "    lines = f.readlines()\n",
        "print(lines)"
      ],
      "metadata": {
        "colab": {
          "base_uri": "https://localhost:8080/"
        },
        "id": "3FddVKOn8mFl",
        "outputId": "4beab5b3-b6d3-4d7e-ede1-c6f3688f2362"
      },
      "execution_count": 10,
      "outputs": [
        {
          "output_type": "stream",
          "name": "stdout",
          "text": [
            "['Hello World']\n"
          ]
        }
      ]
    },
    {
      "cell_type": "markdown",
      "source": [
        "Q10. Append data to existing file"
      ],
      "metadata": {
        "id": "BbdB988c8p9P"
      }
    },
    {
      "cell_type": "code",
      "source": [
        "with open(\"file.txt\", \"a\") as f:\n",
        "    f.write(\"\\nNew line\")"
      ],
      "metadata": {
        "id": "BSGQZaNc8svo"
      },
      "execution_count": 11,
      "outputs": []
    },
    {
      "cell_type": "markdown",
      "source": [
        "Q11. Handle missing dictionary key"
      ],
      "metadata": {
        "id": "wvmdL0028wZC"
      }
    },
    {
      "cell_type": "code",
      "source": [
        "try:\n",
        "    data = {\"a\": 1}\n",
        "    print(data[\"b\"])\n",
        "except KeyError:\n",
        "    print(\"Key not found!\")"
      ],
      "metadata": {
        "colab": {
          "base_uri": "https://localhost:8080/"
        },
        "id": "8SHvsIW38zau",
        "outputId": "8080f53a-8f62-47be-bf38-9e7646e01c2e"
      },
      "execution_count": 12,
      "outputs": [
        {
          "output_type": "stream",
          "name": "stdout",
          "text": [
            "Key not found!\n"
          ]
        }
      ]
    },
    {
      "cell_type": "markdown",
      "source": [
        "Q12. Multiple except blocks"
      ],
      "metadata": {
        "id": "_cNtIruB88_R"
      }
    },
    {
      "cell_type": "code",
      "source": [
        "try:\n",
        "    x = int(\"abc\")\n",
        "except ValueError:\n",
        "    print(\"Value error!\")\n",
        "except TypeError:\n",
        "    print(\"Type error!\")"
      ],
      "metadata": {
        "colab": {
          "base_uri": "https://localhost:8080/"
        },
        "id": "j7mLgnH39Cbc",
        "outputId": "e694fb13-7062-4852-f882-dcbc0785dd37"
      },
      "execution_count": 13,
      "outputs": [
        {
          "output_type": "stream",
          "name": "stdout",
          "text": [
            "Value error!\n"
          ]
        }
      ]
    },
    {
      "cell_type": "markdown",
      "source": [
        "Q13. Check if file exists"
      ],
      "metadata": {
        "id": "NQFcKyI69LH_"
      }
    },
    {
      "cell_type": "code",
      "source": [
        "import os\n",
        "if os.path.exists(\"file.txt\"):\n",
        "    print(\"File exists\")\n",
        "else:\n",
        "    print(\"No file\")"
      ],
      "metadata": {
        "colab": {
          "base_uri": "https://localhost:8080/"
        },
        "id": "EYG78foj9Pn_",
        "outputId": "f81a5765-f0f9-4b04-9bc5-6c4041a91941"
      },
      "execution_count": 14,
      "outputs": [
        {
          "output_type": "stream",
          "name": "stdout",
          "text": [
            "File exists\n"
          ]
        }
      ]
    },
    {
      "cell_type": "markdown",
      "source": [
        "Q14. Log info and error"
      ],
      "metadata": {
        "id": "kbBqB52i9U0R"
      }
    },
    {
      "cell_type": "code",
      "source": [
        "import logging\n",
        "logging.basicConfig(level=logging.DEBUG)\n",
        "logging.info(\"Program started\")\n",
        "logging.error(\"Something went wrong\")\n"
      ],
      "metadata": {
        "colab": {
          "base_uri": "https://localhost:8080/"
        },
        "id": "CqrCioOW9Xfn",
        "outputId": "2e7c6067-a507-4f4e-f9cb-f95ebfb40fe6"
      },
      "execution_count": 15,
      "outputs": [
        {
          "output_type": "stream",
          "name": "stderr",
          "text": [
            "ERROR:root:Something went wrong\n"
          ]
        }
      ]
    },
    {
      "cell_type": "markdown",
      "source": [
        "Q15. Print file content & handle empty file"
      ],
      "metadata": {
        "id": "FMTm-Fvw9aou"
      }
    },
    {
      "cell_type": "code",
      "source": [
        "if os.path.getsize(\"file.txt\") == 0:\n",
        "    print(\"Empty file\")\n",
        "else:\n",
        "    with open(\"file.txt\") as f:\n",
        "        print(f.read())\n"
      ],
      "metadata": {
        "colab": {
          "base_uri": "https://localhost:8080/"
        },
        "id": "kFSH8hhv9dkm",
        "outputId": "b9b7a8d8-4cf3-4997-9f38-f989307d93b0"
      },
      "execution_count": 16,
      "outputs": [
        {
          "output_type": "stream",
          "name": "stdout",
          "text": [
            "Hello World\n",
            "New line\n"
          ]
        }
      ]
    },
    {
      "cell_type": "markdown",
      "source": [
        "Q16. Memory profiling"
      ],
      "metadata": {
        "id": "0b2iLXPC9h8-"
      }
    },
    {
      "cell_type": "code",
      "source": [
        "from memory_profiler import profile\n",
        "@profile\n",
        "def test():\n",
        "    a = [i for i in range(1000)]\n",
        "test()\n"
      ],
      "metadata": {
        "colab": {
          "base_uri": "https://localhost:8080/",
          "height": 383
        },
        "id": "mJjs-KYs9lMA",
        "outputId": "1d653374-6411-4cf7-e6ac-71ec13c77400"
      },
      "execution_count": 17,
      "outputs": [
        {
          "output_type": "error",
          "ename": "ModuleNotFoundError",
          "evalue": "No module named 'memory_profiler'",
          "traceback": [
            "\u001b[0;31m---------------------------------------------------------------------------\u001b[0m",
            "\u001b[0;31mModuleNotFoundError\u001b[0m                       Traceback (most recent call last)",
            "\u001b[0;32m/tmp/ipython-input-3165441618.py\u001b[0m in \u001b[0;36m<cell line: 0>\u001b[0;34m()\u001b[0m\n\u001b[0;32m----> 1\u001b[0;31m \u001b[0;32mfrom\u001b[0m \u001b[0mmemory_profiler\u001b[0m \u001b[0;32mimport\u001b[0m \u001b[0mprofile\u001b[0m\u001b[0;34m\u001b[0m\u001b[0;34m\u001b[0m\u001b[0m\n\u001b[0m\u001b[1;32m      2\u001b[0m \u001b[0;34m@\u001b[0m\u001b[0mprofile\u001b[0m\u001b[0;34m\u001b[0m\u001b[0;34m\u001b[0m\u001b[0m\n\u001b[1;32m      3\u001b[0m \u001b[0;32mdef\u001b[0m \u001b[0mtest\u001b[0m\u001b[0;34m(\u001b[0m\u001b[0;34m)\u001b[0m\u001b[0;34m:\u001b[0m\u001b[0;34m\u001b[0m\u001b[0;34m\u001b[0m\u001b[0m\n\u001b[1;32m      4\u001b[0m     \u001b[0ma\u001b[0m \u001b[0;34m=\u001b[0m \u001b[0;34m[\u001b[0m\u001b[0mi\u001b[0m \u001b[0;32mfor\u001b[0m \u001b[0mi\u001b[0m \u001b[0;32min\u001b[0m \u001b[0mrange\u001b[0m\u001b[0;34m(\u001b[0m\u001b[0;36m1000\u001b[0m\u001b[0;34m)\u001b[0m\u001b[0;34m]\u001b[0m\u001b[0;34m\u001b[0m\u001b[0;34m\u001b[0m\u001b[0m\n\u001b[1;32m      5\u001b[0m \u001b[0mtest\u001b[0m\u001b[0;34m(\u001b[0m\u001b[0;34m)\u001b[0m\u001b[0;34m\u001b[0m\u001b[0;34m\u001b[0m\u001b[0m\n",
            "\u001b[0;31mModuleNotFoundError\u001b[0m: No module named 'memory_profiler'",
            "",
            "\u001b[0;31m---------------------------------------------------------------------------\u001b[0;32m\nNOTE: If your import is failing due to a missing package, you can\nmanually install dependencies using either !pip or !apt.\n\nTo view examples of installing some common dependencies, click the\n\"Open Examples\" button below.\n\u001b[0;31m---------------------------------------------------------------------------\u001b[0m\n"
          ],
          "errorDetails": {
            "actions": [
              {
                "action": "open_url",
                "actionText": "Open Examples",
                "url": "/notebooks/snippets/importing_libraries.ipynb"
              }
            ]
          }
        }
      ]
    },
    {
      "cell_type": "markdown",
      "source": [
        "Q17. Write list of numbers to file"
      ],
      "metadata": {
        "id": "5rQb5hhD9r2n"
      }
    },
    {
      "cell_type": "code",
      "source": [
        "nums = [1, 2, 3]\n",
        "with open(\"nums.txt\", \"w\") as f:\n",
        "    for n in nums:\n",
        "        f.write(f\"{n}\\n\")\n"
      ],
      "metadata": {
        "id": "JSnl-QBM9ven"
      },
      "execution_count": 18,
      "outputs": []
    },
    {
      "cell_type": "markdown",
      "source": [
        "Q18. Logging with rotation after 1MB"
      ],
      "metadata": {
        "id": "aokWbzMa9zaM"
      }
    },
    {
      "cell_type": "code",
      "source": [
        "import logging\n",
        "from logging.handlers import RotatingFileHandler\n",
        "handler = RotatingFileHandler(\"app.log\", maxBytes=1_000_000, backupCount=3)\n",
        "logging.basicConfig(handlers=[handler], level=logging.INFO)\n",
        "logging.info(\"Test log\")\n"
      ],
      "metadata": {
        "id": "YPdNltD1921L"
      },
      "execution_count": 19,
      "outputs": []
    },
    {
      "cell_type": "markdown",
      "source": [
        "Q19. Handle IndexError & KeyError"
      ],
      "metadata": {
        "id": "jtV_wtfL960V"
      }
    },
    {
      "cell_type": "code",
      "source": [
        "try:\n",
        "    lst = [1]\n",
        "    print(lst[5])\n",
        "    d = {}\n",
        "    print(d[\"key\"])\n",
        "except IndexError:\n",
        "    print(\"Index error!\")\n",
        "except KeyError:\n",
        "    print(\"Key error!\")\n"
      ],
      "metadata": {
        "colab": {
          "base_uri": "https://localhost:8080/"
        },
        "id": "T76PbC3Z9-bp",
        "outputId": "ad6d73b4-7bfc-49cd-abb6-6c77c3c8f54c"
      },
      "execution_count": 20,
      "outputs": [
        {
          "output_type": "stream",
          "name": "stdout",
          "text": [
            "Index error!\n"
          ]
        }
      ]
    },
    {
      "cell_type": "markdown",
      "source": [
        "Q20. Open & read file with context manager"
      ],
      "metadata": {
        "id": "Zcri0aFl-Bwb"
      }
    },
    {
      "cell_type": "code",
      "source": [
        "with open(\"file.txt\") as f:\n",
        "    print(f.read())\n"
      ],
      "metadata": {
        "colab": {
          "base_uri": "https://localhost:8080/"
        },
        "id": "8Dxyr8mj-IdJ",
        "outputId": "03b18286-73b0-48c4-d370-5ce1ed157772"
      },
      "execution_count": 21,
      "outputs": [
        {
          "output_type": "stream",
          "name": "stdout",
          "text": [
            "Hello World\n",
            "New line\n"
          ]
        }
      ]
    },
    {
      "cell_type": "markdown",
      "source": [
        "Q21. Count occurrences of a word"
      ],
      "metadata": {
        "id": "0eZDSIXa-Mmw"
      }
    },
    {
      "cell_type": "code",
      "source": [
        "word = \"hello\"\n",
        "with open(\"file.txt\") as f:\n",
        "    text = f.read()\n",
        "print(text.count(word))\n"
      ],
      "metadata": {
        "colab": {
          "base_uri": "https://localhost:8080/"
        },
        "id": "3hZsdieb-Py7",
        "outputId": "d3531824-51cd-4ef8-b785-fa0d06b7c87a"
      },
      "execution_count": 22,
      "outputs": [
        {
          "output_type": "stream",
          "name": "stdout",
          "text": [
            "0\n"
          ]
        }
      ]
    },
    {
      "cell_type": "markdown",
      "source": [
        "Q22. Check if file is empty"
      ],
      "metadata": {
        "id": "C8kcDjAi-Uas"
      }
    },
    {
      "cell_type": "code",
      "source": [
        "import os\n",
        "if os.path.getsize(\"file.txt\") == 0:\n",
        "    print(\"Empty\")\n"
      ],
      "metadata": {
        "id": "D4a4C9WN-XRE"
      },
      "execution_count": 23,
      "outputs": []
    },
    {
      "cell_type": "markdown",
      "source": [
        "Q23. Log error during file handling"
      ],
      "metadata": {
        "id": "CV0CGpVf-aRf"
      }
    },
    {
      "cell_type": "code",
      "source": [
        "import logging\n",
        "logging.basicConfig(filename=\"error.log\", level=logging.ERROR)\n",
        "try:\n",
        "    with open(\"no.txt\") as f:\n",
        "        print(f.read())\n",
        "except Exception as e:\n",
        "    logging.error(e)\n"
      ],
      "metadata": {
        "colab": {
          "base_uri": "https://localhost:8080/"
        },
        "id": "bs5ci7KJ-c1C",
        "outputId": "c7320bb6-1ea2-42f8-fa9c-398d2ac1eb2f"
      },
      "execution_count": 24,
      "outputs": [
        {
          "output_type": "stream",
          "name": "stderr",
          "text": [
            "ERROR:root:[Errno 2] No such file or directory: 'no.txt'\n"
          ]
        }
      ]
    }
  ]
}